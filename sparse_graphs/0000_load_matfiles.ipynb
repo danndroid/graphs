{
 "cells": [
  {
   "cell_type": "code",
   "execution_count": 1,
   "id": "3049e16e-1260-4c1e-a8db-6efe7a994b81",
   "metadata": {},
   "outputs": [],
   "source": [
    "from scipy.io import loadmat\n",
    "import h5py\n",
    "import numpy as np\n",
    "import mat73"
   ]
  },
  {
   "cell_type": "markdown",
   "id": "f041b912-0e18-4c29-b42b-de7a94116e84",
   "metadata": {},
   "source": [
    "## Load unrelated participants\n",
    "### 426 pairs (test, retest) = 852 files (timeseries)"
   ]
  },
  {
   "cell_type": "code",
   "execution_count": 37,
   "id": "5ea3f5f7-aba0-4278-9d2b-1efc57cbb63e",
   "metadata": {},
   "outputs": [],
   "source": [
    "matfile = '../tangent_Figure8_package_v1.0/data/ts_all_426_schaefer_subc_400_RS.mat'"
   ]
  },
  {
   "cell_type": "code",
   "execution_count": 38,
   "id": "c6bfcc09-3dde-4922-b2bd-cbcc7609365c",
   "metadata": {},
   "outputs": [
    {
     "data": {
      "text/plain": [
       "dict_keys(['IDs', 'ts_all'])"
      ]
     },
     "execution_count": 38,
     "metadata": {},
     "output_type": "execute_result"
    }
   ],
   "source": [
    "data_dict = mat73.loadmat(matfile)\n",
    "data_dict.keys()"
   ]
  },
  {
   "cell_type": "code",
   "execution_count": 39,
   "id": "3053674f-0800-425b-aac2-f5aeb204a1fe",
   "metadata": {},
   "outputs": [
    {
     "name": "stdout",
     "output_type": "stream",
     "text": [
      "(426,)\n"
     ]
    }
   ],
   "source": [
    "print(data_dict['IDs'].shape)"
   ]
  },
  {
   "cell_type": "code",
   "execution_count": 40,
   "id": "7518aac6-a1c5-45d4-8a6a-b58ba1061a9b",
   "metadata": {},
   "outputs": [
    {
     "name": "stdout",
     "output_type": "stream",
     "text": [
      "852\n"
     ]
    },
    {
     "data": {
      "text/plain": [
       "{'ts': array([[-2.50887834e-02,  9.68002249e-04,  3.57018948e-01, ...,\n",
       "         -1.05599381e-01, -2.57801741e-01, -6.56458316e-04],\n",
       "        [-1.02810329e-02, -9.13419109e-03,  3.86109233e-01, ...,\n",
       "         -1.27319530e-01, -2.64554501e-01, -3.08918133e-02],\n",
       "        [-3.18636708e-02, -5.20399660e-02,  3.81803006e-01, ...,\n",
       "         -1.36896953e-01, -2.59586334e-01, -4.97874208e-02],\n",
       "        ...,\n",
       "        [-6.61357880e-01, -4.53347087e-01, -1.66607344e+00, ...,\n",
       "          2.11547628e-01, -3.22241306e-01,  9.75142539e-01],\n",
       "        [-6.76455915e-01, -4.69859272e-01, -1.74679875e+00, ...,\n",
       "          1.95202336e-01, -3.41710865e-01,  1.04817998e+00],\n",
       "        [-6.53575957e-01, -4.66526806e-01, -1.75081170e+00, ...,\n",
       "          1.77985951e-01, -3.49476635e-01,  1.07259464e+00]])}"
      ]
     },
     "execution_count": 40,
     "metadata": {},
     "output_type": "execute_result"
    }
   ],
   "source": [
    "data = data_dict['ts_all']\n",
    "print(len(data))\n",
    "data[0]"
   ]
  },
  {
   "cell_type": "code",
   "execution_count": 41,
   "id": "69112fab-f9f5-4877-bde5-d6cedfcc5f58",
   "metadata": {},
   "outputs": [
    {
     "data": {
      "text/plain": [
       "(852, 1190, 414)"
      ]
     },
     "execution_count": 41,
     "metadata": {},
     "output_type": "execute_result"
    }
   ],
   "source": [
    "time_series = []\n",
    "for i in range(len(data)):\n",
    "    time_series.append(data[i]['ts'])\n",
    "time_series = np.array(time_series)\n",
    "time_series.shape"
   ]
  },
  {
   "cell_type": "markdown",
   "id": "6faf54e1-ac48-4a02-95d1-0bcdf55b77b6",
   "metadata": {},
   "source": [
    "## Load MZ participants\n",
    "### 116 twins, each with test and retest  = 464 files (timeseries)"
   ]
  },
  {
   "cell_type": "code",
   "execution_count": 42,
   "id": "9e2077cd-3053-4bad-9014-754c44d81583",
   "metadata": {},
   "outputs": [],
   "source": [
    "matfile = '../tangent_Figure8_package_v1.0/data/ts_MZ_116_schaefer_subc_400_RS.mat'"
   ]
  },
  {
   "cell_type": "code",
   "execution_count": 43,
   "id": "b44474de-4b59-491a-8712-fe7ab2fe17bd",
   "metadata": {},
   "outputs": [
    {
     "data": {
      "text/plain": [
       "dict_keys(['__header__', '__version__', '__globals__', 'IDs', 'ts_all'])"
      ]
     },
     "execution_count": 43,
     "metadata": {},
     "output_type": "execute_result"
    }
   ],
   "source": [
    "data_dict = loadmat(matfile)\n",
    "data_dict.keys()"
   ]
  },
  {
   "cell_type": "code",
   "execution_count": 44,
   "id": "34f8c7ed-7fe4-4743-86f3-fc6f4f0ebabf",
   "metadata": {},
   "outputs": [
    {
     "name": "stdout",
     "output_type": "stream",
     "text": [
      "(116, 2)\n"
     ]
    }
   ],
   "source": [
    "print(data_dict['IDs'].shape)"
   ]
  },
  {
   "cell_type": "code",
   "execution_count": 45,
   "id": "8a603b82-9912-4c45-bea0-4bdf7bab5f9a",
   "metadata": {},
   "outputs": [
    {
     "data": {
      "text/plain": [
       "(1, 464)"
      ]
     },
     "execution_count": 45,
     "metadata": {},
     "output_type": "execute_result"
    }
   ],
   "source": [
    "data = data_dict['ts_all']\n",
    "data.shape"
   ]
  },
  {
   "cell_type": "code",
   "execution_count": 46,
   "id": "d6e5d5d5-c3f3-46e0-aa03-42bfd9efe8a6",
   "metadata": {},
   "outputs": [
    {
     "data": {
      "text/plain": [
       "(464, 1190, 414)"
      ]
     },
     "execution_count": 46,
     "metadata": {},
     "output_type": "execute_result"
    }
   ],
   "source": [
    "time_series = []\n",
    "for s in range(data.shape[1]):\n",
    "    time_series.append(data[0,s][0][0][0])\n",
    "time_series = np.array(time_series)\n",
    "time_series.shape"
   ]
  },
  {
   "cell_type": "markdown",
   "id": "43036469-a609-40d9-b9ad-4d99a65beaa6",
   "metadata": {},
   "source": [
    "## Load DZ participants\n",
    "### 63 twins, each with test and retest  = 252 files (timeseries)"
   ]
  },
  {
   "cell_type": "code",
   "execution_count": 51,
   "id": "7f63c043-75d8-4f6f-a1e7-dc7a4432e3e9",
   "metadata": {},
   "outputs": [
    {
     "data": {
      "text/plain": [
       "dict_keys(['__header__', '__version__', '__globals__', 'IDs', 'ts_all'])"
      ]
     },
     "execution_count": 51,
     "metadata": {},
     "output_type": "execute_result"
    }
   ],
   "source": [
    "matfile = '../tangent_Figure8_package_v1.0/data/ts_DZ_63_schaefer_subc_400_RS.mat'\n",
    "data_dict = loadmat(matfile)\n",
    "data_dict.keys()"
   ]
  },
  {
   "cell_type": "code",
   "execution_count": 52,
   "id": "c4e01814-0242-480a-89f2-8759c30af1fe",
   "metadata": {},
   "outputs": [
    {
     "name": "stdout",
     "output_type": "stream",
     "text": [
      "(63, 2)\n"
     ]
    }
   ],
   "source": [
    "print(data_dict['IDs'].shape)"
   ]
  },
  {
   "cell_type": "code",
   "execution_count": 53,
   "id": "9e7beed9-74de-4527-9fe6-1cf406b90920",
   "metadata": {},
   "outputs": [
    {
     "data": {
      "text/plain": [
       "(1, 252)"
      ]
     },
     "execution_count": 53,
     "metadata": {},
     "output_type": "execute_result"
    }
   ],
   "source": [
    "data = data_dict['ts_all']\n",
    "data.shape"
   ]
  },
  {
   "cell_type": "code",
   "execution_count": 56,
   "id": "a2bc920a-5298-4160-b777-2f37d525fbe2",
   "metadata": {},
   "outputs": [
    {
     "name": "stdout",
     "output_type": "stream",
     "text": [
      "Subject 36 (1045, 414)\n",
      "251\n"
     ]
    },
    {
     "data": {
      "text/plain": [
       "(252, 1190, 414)"
      ]
     },
     "execution_count": 56,
     "metadata": {},
     "output_type": "execute_result"
    }
   ],
   "source": [
    "timeseries = []\n",
    "for s in range(252):\n",
    "    size = data[0,s][0][0][0].shape\n",
    "    if size != (1190,414):\n",
    "        print(f'Subject {s}',size)\n",
    "        timeseries.append(data[0,s+2][0][0][0]) # ONE PARTICPANT HAS LESS TIMEPOINS\n",
    "    else:\n",
    "        timeseries.append(data[0,s][0][0][0])\n",
    "print(s)\n",
    "timeseries = np.array(timeseries)\n",
    "timeseries.shape"
   ]
  },
  {
   "cell_type": "code",
   "execution_count": null,
   "id": "2086be47-b8b6-499f-bc18-c3fe04899618",
   "metadata": {},
   "outputs": [],
   "source": []
  }
 ],
 "metadata": {
  "kernelspec": {
   "display_name": "Python 3 (ipykernel)",
   "language": "python",
   "name": "python3"
  },
  "language_info": {
   "codemirror_mode": {
    "name": "ipython",
    "version": 3
   },
   "file_extension": ".py",
   "mimetype": "text/x-python",
   "name": "python",
   "nbconvert_exporter": "python",
   "pygments_lexer": "ipython3",
   "version": "3.9.0"
  }
 },
 "nbformat": 4,
 "nbformat_minor": 5
}
