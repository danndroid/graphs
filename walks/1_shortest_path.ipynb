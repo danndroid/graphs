{
 "cells": [
  {
   "cell_type": "code",
   "execution_count": 124,
   "id": "cc804200-d125-4a49-97b5-72a09abcada5",
   "metadata": {},
   "outputs": [],
   "source": [
    "import numpy as np\n",
    "import networkx as nx\n",
    "\n",
    "from itertools import product\n",
    "import matplotlib.pyplot as plt"
   ]
  },
  {
   "cell_type": "code",
   "execution_count": 183,
   "id": "c25fefce-aaaf-4b8f-8c1a-6d8bd3c2dc84",
   "metadata": {},
   "outputs": [],
   "source": [
    "G = nx.DiGraph()"
   ]
  },
  {
   "cell_type": "code",
   "execution_count": 184,
   "id": "7e81ebde-5bb7-4170-bf4c-7144756e842c",
   "metadata": {},
   "outputs": [
    {
     "data": {
      "text/plain": [
       "array([1, 2, 3])"
      ]
     },
     "execution_count": 184,
     "metadata": {},
     "output_type": "execute_result"
    }
   ],
   "source": [
    "vertices = np.arange(1,4)\n",
    "vertices"
   ]
  },
  {
   "cell_type": "code",
   "execution_count": 185,
   "id": "cd52394c-78f9-43ed-96d4-6c795f61aa8b",
   "metadata": {},
   "outputs": [],
   "source": [
    "edges = product(vertices, vertices)"
   ]
  },
  {
   "cell_type": "code",
   "execution_count": 186,
   "id": "7a48de04-e28e-47e6-a55c-d279b006ddc9",
   "metadata": {},
   "outputs": [],
   "source": [
    "for e in edges:\n",
    "    if e[0]!=e[1]:\n",
    "        G.add_edge(*e, weight=np.random.randint(5))"
   ]
  },
  {
   "cell_type": "code",
   "execution_count": 187,
   "id": "4513316b-ff20-4b1f-be05-87488c1433b6",
   "metadata": {},
   "outputs": [],
   "source": [
    "G.add_edge(3, 4, weight=50)"
   ]
  },
  {
   "cell_type": "code",
   "execution_count": 193,
   "id": "b3bf6d41-5058-4011-992b-399f46cd0142",
   "metadata": {},
   "outputs": [
    {
     "data": {
      "image/png": "[encoded data removed]",
      "text/plain": [
       "<Figure size 300x300 with 1 Axes>"
      ]
     },
     "metadata": {},
     "output_type": "display_data"
    }
   ],
   "source": [
    "plt.figure(figsize=(3,3))\n",
    "pos = nx.circular_layout(G) \n",
    "#pos=nx.get_node_attributes(G,'pos')\n",
    "nx.draw(G, with_labels = True)\n",
    "labels = nx.get_edge_attributes(G,'weight')\n",
    "nx.draw_networkx_edge_labels(G, pos, edge_labels=labels)\n",
    "#nx.draw(G,with_labels = True)\n",
    "plt.show()"
   ]
  },
  {
   "cell_type": "code",
   "execution_count": 199,
   "id": "06a68f40-a718-4649-a3ed-52cc66dad9b0",
   "metadata": {},
   "outputs": [
    {
     "data": {
      "text/plain": [
       "{(1, 2): 2, (1, 3): 3, (2, 1): 1, (2, 3): 3, (3, 1): 2, (3, 2): 2, (3, 4): 50}"
      ]
     },
     "execution_count": 199,
     "metadata": {},
     "output_type": "execute_result"
    }
   ],
   "source": [
    "labels"
   ]
  },
  {
   "cell_type": "code",
   "execution_count": 194,
   "id": "789a8269-ee6d-455d-b8a1-cc5c63e44094",
   "metadata": {},
   "outputs": [
    {
     "data": {
      "text/plain": [
       "[1, 3, 4]"
      ]
     },
     "execution_count": 194,
     "metadata": {},
     "output_type": "execute_result"
    }
   ],
   "source": [
    "path = nx.shortest_path(G, source=1, target=4, weight='weight')\n",
    "path"
   ]
  },
  {
   "cell_type": "code",
   "execution_count": 203,
   "id": "90752023-ab2f-49d5-b2e1-9bd029b78e3a",
   "metadata": {},
   "outputs": [
    {
     "name": "stdout",
     "output_type": "stream",
     "text": [
      "w(1, 3) = 3\n",
      "w(3, 4) = 50\n"
     ]
    }
   ],
   "source": [
    "for i in range(len(path)-1):\n",
    "    e = (path[i],path[i+1])\n",
    "    l = labels[e]\n",
    "    print(f'w{e} = {l}')"
   ]
  },
  {
   "cell_type": "code",
   "execution_count": 191,
   "id": "2ecbd4fd-2148-48d8-af1c-ca96bf9bd571",
   "metadata": {},
   "outputs": [
    {
     "data": {
      "text/plain": [
       "53"
      ]
     },
     "execution_count": 191,
     "metadata": {},
     "output_type": "execute_result"
    }
   ],
   "source": [
    "nx.shortest_path_length(G, source=1, target=4, weight='weight')"
   ]
  },
  {
   "cell_type": "code",
   "execution_count": null,
   "id": "9815e8ed-7853-41a6-ba57-a96ca83d6f6f",
   "metadata": {},
   "outputs": [],
   "source": []
  }
 ],
 "metadata": {
  "kernelspec": {
   "display_name": "Python 3 (ipykernel)",
   "language": "python",
   "name": "python3"
  },
  "language_info": {
   "codemirror_mode": {
    "name": "ipython",
    "version": 3
   },
   "file_extension": ".py",
   "mimetype": "text/x-python",
   "name": "python",
   "nbconvert_exporter": "python",
   "pygments_lexer": "ipython3",
   "version": "3.9.12"
  }
 },
 "nbformat": 4,
 "nbformat_minor": 5
}
